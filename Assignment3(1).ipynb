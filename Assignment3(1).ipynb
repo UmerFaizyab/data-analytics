{
 "cells": [
  {
   "cell_type": "markdown",
   "id": "4ec26b99-ed2e-42a2-9275-30d4cb7f36d7",
   "metadata": {},
   "source": [
    "\n",
    "1. You need to store and manage employee records where each record includes an\r\n",
    "employee's ID, name, and department. (Use tuples to represent each employee record)."
   ]
  },
  {
   "cell_type": "code",
   "execution_count": 4,
   "id": "9c530153-bb50-4545-876e-04bfbb6a0749",
   "metadata": {},
   "outputs": [
    {
     "name": "stdout",
     "output_type": "stream",
     "text": [
      "(1474, 'Zubair', 'Marketing')\n",
      "(1114, 'Ali', 'Sales')\n",
      "(4972, 'Umer', 'Finance')\n"
     ]
    }
   ],
   "source": [
    "employee1 = (1474, \"Zubair\", \"Marketing\")\n",
    "employee2 = (1114, \"Ali\", \"Sales\")\n",
    "employee3 = (4972, \"Umer\", \"Finance\")\n",
    "print(employee1)\n",
    "print(employee2)\n",
    "print(employee3)"
   ]
  },
  {
   "cell_type": "code",
   "execution_count": 5,
   "id": "2c276dd2-150e-4f28-bd5d-9a863f9da4ec",
   "metadata": {},
   "outputs": [],
   "source": [
    "item1 = (33, \"Wireless Gaming controller\", \"100\")\n",
    "item2 = (53, \"Mechanical Keyboard\", \"26\")\n",
    "item3 = (21, \"Mouse\", \"175\")\n"
   ]
  },
  {
   "cell_type": "code",
   "execution_count": 6,
   "id": "3842bcde-51c1-4e07-a172-c029c0b5a03e",
   "metadata": {},
   "outputs": [],
   "source": [
    "meeting1 = (\"17-8-2024\", \"1500\")\n",
    "doctorsAppointment = (\"19-9-2024\", \"1230\")\n",
    "Wedding = (\"20-9-2024\", \"1800\")"
   ]
  },
  {
   "cell_type": "code",
   "execution_count": 7,
   "id": "849b439c-0585-4936-bac0-64633eda3db9",
   "metadata": {},
   "outputs": [],
   "source": [
    "EmployeesData = {\n",
    "     'Sales' : \n",
    "        {'EmployeeName': 'Zubair',\n",
    "         'salary': 80000,\n",
    "         'phone' : +92561841233\n",
    "        },\n",
    "     'Finance' : \n",
    "        {'EmployeeName': 'Umer',\n",
    "         'salary': 75000,\n",
    "         'phone' : +92561841233\n",
    "        },\n",
    "    'Marketing' : \n",
    "        {'EmployeeName': 'Ali',\n",
    "         'salary': 90000,\n",
    "         'phone' : +92561841233\n",
    "        },\n",
    "}"
   ]
  },
  {
   "cell_type": "code",
   "execution_count": 15,
   "id": "e9590a4a-21ae-474c-b0c6-474e4c2636fb",
   "metadata": {},
   "outputs": [],
   "source": [
    "studentReport = [\n",
    "    {\n",
    "    'name' : 'Umer',\n",
    "    'maths': 75,\n",
    "    'physics': 70,\n",
    "    'chemistry': 80,\n",
    "    'urdu': 95    \n",
    "    },\n",
    "    {\n",
    "    'name' : 'Ali',\n",
    "    'maths': 80,\n",
    "    'physics': 85,\n",
    "    'chemistry': 78,\n",
    "    'urdu': 60    \n",
    "    },\n",
    "    {\n",
    "    'name' : 'Zubair',\n",
    "    'maths': 88,\n",
    "    'physics': 73,\n",
    "    'chemistry': 74,\n",
    "    'urdu': 40    \n",
    "    }\n",
    "]"
   ]
  },
  {
   "cell_type": "code",
   "execution_count": 16,
   "id": "281f16a8-7bc5-4a21-8b5c-40394f5a7f09",
   "metadata": {},
   "outputs": [
    {
     "name": "stdout",
     "output_type": "stream",
     "text": [
      "80\n",
      "85\n",
      "60\n"
     ]
    }
   ],
   "source": [
    "print(studentReport[1]['maths'])\n",
    "print(studentReport[1]['physics'])\n",
    "print(studentReport[1]['urdu'])"
   ]
  },
  {
   "cell_type": "code",
   "execution_count": 19,
   "id": "f53994c8-0b23-49b3-8a5c-31f25679ffff",
   "metadata": {},
   "outputs": [
    {
     "data": {
      "text/plain": [
       "'write python script to filter data'"
      ]
     },
     "execution_count": 19,
     "metadata": {},
     "output_type": "execute_result"
    }
   ],
   "source": [
    "projectDetails = {\n",
    "    'website development': ['Design UI','Negotiate with client','Add functionality'],\n",
    "    'logo design' : ['logo design', 'Ask for further Information from client','Show him a demo logo'],\n",
    "    'python script' : ['write python script to filter data', 'make sure only required data is retrieved']\n",
    "}\n",
    "projectDetails['python script'][0]"
   ]
  },
  {
   "cell_type": "code",
   "execution_count": null,
   "id": "efb12ddb-b319-44ab-9dd3-8630a22f7310",
   "metadata": {},
   "outputs": [],
   "source": []
  }
 ],
 "metadata": {
  "kernelspec": {
   "display_name": "Python 3 (ipykernel)",
   "language": "python",
   "name": "python3"
  },
  "language_info": {
   "codemirror_mode": {
    "name": "ipython",
    "version": 3
   },
   "file_extension": ".py",
   "mimetype": "text/x-python",
   "name": "python",
   "nbconvert_exporter": "python",
   "pygments_lexer": "ipython3",
   "version": "3.12.4"
  }
 },
 "nbformat": 4,
 "nbformat_minor": 5
}
