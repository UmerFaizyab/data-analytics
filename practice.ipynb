{
 "cells": [
  {
   "cell_type": "code",
   "execution_count": 1,
   "id": "bde26125-4ec6-4d1d-9d69-06318fc977e4",
   "metadata": {},
   "outputs": [
    {
     "name": "stdout",
     "output_type": "stream",
     "text": [
      "\n",
      "Twinkle, twinkle, little star,\n",
      "    How I wonder what you are!\n",
      "        Up above the world so high,\n",
      "        Like a diamond in the sky.\n",
      "\n",
      "Twinkle, twinkle, little star,\n",
      "    How I wonder what you are\n",
      "\n"
     ]
    }
   ],
   "source": [
    "print(\"\"\"\n",
    "Twinkle, twinkle, little star,\n",
    "    How I wonder what you are!\n",
    "        Up above the world so high,\n",
    "        Like a diamond in the sky.\n",
    "\n",
    "Twinkle, twinkle, little star,\n",
    "    How I wonder what you are\n",
    "\"\"\")\n"
   ]
  },
  {
   "cell_type": "code",
   "execution_count": 7,
   "id": "659489d5-46aa-46b4-825e-33f8c1e69ed3",
   "metadata": {},
   "outputs": [
    {
     "name": "stdout",
     "output_type": "stream",
     "text": [
      "3.12.4 | packaged by Anaconda, Inc. | (main, Jun 18 2024, 15:03:56) [MSC v.1929 64 bit (AMD64)]\n"
     ]
    }
   ],
   "source": [
    "import sys\n",
    "print(sys.version)"
   ]
  },
  {
   "cell_type": "code",
   "execution_count": 9,
   "id": "24515fd3-866f-48bc-a11c-9c9870e5ff74",
   "metadata": {},
   "outputs": [
    {
     "name": "stdout",
     "output_type": "stream",
     "text": [
      "2024-08-03 02:08:37.214765\n"
     ]
    }
   ],
   "source": [
    "import datetime\n",
    "now = datetime.datetime.now()\n",
    "print(now)"
   ]
  },
  {
   "cell_type": "code",
   "execution_count": 13,
   "id": "16a69dd7-29ad-4f9f-9085-d6b4cdbc2143",
   "metadata": {},
   "outputs": [
    {
     "name": "stdin",
     "output_type": "stream",
     "text": [
      "Enter your first Name umer\n",
      "Enter your last Name khan\n"
     ]
    },
    {
     "name": "stdout",
     "output_type": "stream",
     "text": [
      "khan umer\n"
     ]
    }
   ],
   "source": [
    "f_name = input(\"Enter your first Name\")\n",
    "l_name = input(\"Enter your last Name\")\n",
    "print(l_name,f_name)"
   ]
  },
  {
   "cell_type": "code",
   "execution_count": 17,
   "id": "013e913d-be70-4366-8f2b-b29b94eca8df",
   "metadata": {},
   "outputs": [
    {
     "name": "stdin",
     "output_type": "stream",
     "text": [
      "Enter first number 45\n",
      "Enter your second number 45\n"
     ]
    },
    {
     "name": "stdout",
     "output_type": "stream",
     "text": [
      "90\n"
     ]
    }
   ],
   "source": [
    "num_1 = int(input(\"Enter first number\"))\n",
    "num_2 = int(input(\"Enter your second number\"))\n",
    "print(num_1+num_2)"
   ]
  },
  {
   "cell_type": "code",
   "execution_count": 30,
   "id": "137b527e-adf7-4df3-a824-74fbe5a74804",
   "metadata": {},
   "outputs": [
    {
     "name": "stdin",
     "output_type": "stream",
     "text": [
      "enter math marks 80\n",
      "enter physics marks 80\n",
      "enter chemistry marks 80\n",
      "enter Biology marks 80\n",
      "enter English marks 80\n"
     ]
    },
    {
     "name": "stdout",
     "output_type": "stream",
     "text": [
      "percentage =  80 %\n",
      "grade      =  A\n"
     ]
    }
   ],
   "source": [
    "math = int(input(\"enter math marks\"))\n",
    "physics = int(input(\"enter physics marks\"))\n",
    "chemistry = int(input(\"enter chemistry marks\"))\n",
    "Biology = int(input(\"enter Biology marks\"))\n",
    "English = int(input(\"enter English marks\"))\n",
    "grade = \"\"\n",
    "total_marks = math + physics + chemistry + Biology + English\n",
    "percentage = round((total_marks/500)*100)\n",
    "if percentage >= 80:\n",
    "    grade = \"A\"\n",
    "elif percentage < 80 and percentage >= 70:\n",
    "    grade = \"B\"\n",
    "elif percentage < 70 and percentage >= 60:\n",
    "    grade = \"C\"\n",
    "else:\n",
    "    grade = \"F\"\n",
    "print(\"Percentage = \",percentage,\"%\")\n",
    "print(\"Grade      = \",grade)\n"
   ]
  },
  {
   "cell_type": "code",
   "execution_count": 35,
   "id": "07d58d9a-0e70-40b1-b537-5e39344bfa4a",
   "metadata": {},
   "outputs": [
    {
     "name": "stdin",
     "output_type": "stream",
     "text": [
      "Enter Number 3\n"
     ]
    },
    {
     "name": "stdout",
     "output_type": "stream",
     "text": [
      "Given Number is Odd\n"
     ]
    }
   ],
   "source": [
    "userInput = int(input(\"Enter Number\"))\n",
    "if (userInput%2) == 0:\n",
    "    print(\"Given number is even\")\n",
    "else:\n",
    "    print(\"Given Number is Odd\")"
   ]
  },
  {
   "cell_type": "code",
   "execution_count": 46,
   "id": "072aba6f-81a4-4822-bc92-323c29702396",
   "metadata": {},
   "outputs": [
    {
     "name": "stdout",
     "output_type": "stream",
     "text": [
      "14\n"
     ]
    }
   ],
   "source": [
    "myList = [1,2,3,4,5,6,7,8,9,10,11,123,12,13]\n",
    "print(len(myList))"
   ]
  },
  {
   "cell_type": "code",
   "execution_count": 47,
   "id": "492da707-aa5a-4ed5-9b8a-af0f11469cee",
   "metadata": {},
   "outputs": [
    {
     "name": "stdout",
     "output_type": "stream",
     "text": [
      "214\n"
     ]
    }
   ],
   "source": [
    "total_list = 0\n",
    "for i in range(len(myList)):\n",
    "    total_list = total_list + myList[i]\n",
    "\n",
    "print(total_list)"
   ]
  },
  {
   "cell_type": "code",
   "execution_count": 48,
   "id": "79f70a8c-f945-42e8-9f74-b9318436a49a",
   "metadata": {},
   "outputs": [
    {
     "name": "stdout",
     "output_type": "stream",
     "text": [
      "123\n"
     ]
    }
   ],
   "source": [
    "highest = 0\n",
    "for i in range(len(myList)):\n",
    "    if myList[i] > highest:\n",
    "        highest = myList[i]\n",
    "\n",
    "print(highest)"
   ]
  },
  {
   "cell_type": "code",
   "execution_count": 51,
   "id": "5d4a7e4e-87d4-4f18-abaa-184eabad067a",
   "metadata": {},
   "outputs": [
    {
     "name": "stdout",
     "output_type": "stream",
     "text": [
      "1\n",
      "1\n",
      "2\n",
      "3\n"
     ]
    }
   ],
   "source": [
    "a = [1, 1, 2, 3, 5, 8, 13, 21, 34, 55, 89]\n",
    "for i in range(len(a)):\n",
    "    if a[i] < 5:\n",
    "        print(a[i])"
   ]
  },
  {
   "cell_type": "code",
   "execution_count": null,
   "id": "4e0466b9-faca-4078-bc7d-28d95929f443",
   "metadata": {},
   "outputs": [],
   "source": []
  }
 ],
 "metadata": {
  "kernelspec": {
   "display_name": "Python 3 (ipykernel)",
   "language": "python",
   "name": "python3"
  },
  "language_info": {
   "codemirror_mode": {
    "name": "ipython",
    "version": 3
   },
   "file_extension": ".py",
   "mimetype": "text/x-python",
   "name": "python",
   "nbconvert_exporter": "python",
   "pygments_lexer": "ipython3",
   "version": "3.12.4"
  }
 },
 "nbformat": 4,
 "nbformat_minor": 5
}
