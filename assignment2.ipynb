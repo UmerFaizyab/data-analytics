{
 "cells": [
  {
   "cell_type": "code",
   "execution_count": 105,
   "id": "e76b64d1-8a67-4226-a7fe-cc49e66d33d1",
   "metadata": {},
   "outputs": [
    {
     "name": "stdout",
     "output_type": "stream",
     "text": [
      "Ali you are invited for dinner on 14 August\n",
      "Usman you are invited for dinner on 14 August\n",
      "Huzaifa you are invited for dinner on 14 August\n"
     ]
    }
   ],
   "source": [
    "guest_list = [\"Ali\", \"Usman\", \"Huzaifa\"]\n",
    "print(guest_list[0], \"you are invited for dinner on 14 August\")\n",
    "print(guest_list[1], \"you are invited for dinner on 14 August\")\n",
    "print(guest_list[2], \"you are invited for dinner on 14 August\")"
   ]
  },
  {
   "cell_type": "code",
   "execution_count": 106,
   "id": "04b54b98-9354-47a1-8a57-95515eb1335c",
   "metadata": {},
   "outputs": [
    {
     "name": "stdout",
     "output_type": "stream",
     "text": [
      "usman is not going to make it\n"
     ]
    }
   ],
   "source": [
    "print(\"usman is not going to make it\")"
   ]
  },
  {
   "cell_type": "code",
   "execution_count": 107,
   "id": "38eacbbb-6d59-41bd-a3c7-9a9807c115f1",
   "metadata": {},
   "outputs": [],
   "source": [
    "guest_list[1] = \"hassan\""
   ]
  },
  {
   "cell_type": "code",
   "execution_count": 108,
   "id": "9698d8b3-b549-496f-9510-647dc33e7641",
   "metadata": {},
   "outputs": [
    {
     "data": {
      "text/plain": [
       "['Ali', 'hassan', 'Huzaifa']"
      ]
     },
     "execution_count": 108,
     "metadata": {},
     "output_type": "execute_result"
    }
   ],
   "source": [
    "guest_list"
   ]
  },
  {
   "cell_type": "code",
   "execution_count": 109,
   "id": "9c5bd523-9539-40a5-84c0-d3e8fffe09dc",
   "metadata": {},
   "outputs": [
    {
     "name": "stdout",
     "output_type": "stream",
     "text": [
      "Ali you are invited for dinner on 14 August\n",
      "hassan you are invited for dinner on 14 August\n",
      "Huzaifa you are invited for dinner on 14 August\n"
     ]
    }
   ],
   "source": [
    "\n",
    "print(guest_list[0], \"you are invited for dinner on 14 August\")\n",
    "print(guest_list[1], \"you are invited for dinner on 14 August\")\n",
    "print(guest_list[2], \"you are invited for dinner on 14 August\")"
   ]
  },
  {
   "cell_type": "code",
   "execution_count": 110,
   "id": "af38096d-6502-4a5a-9da0-02cdeeea71e7",
   "metadata": {},
   "outputs": [
    {
     "name": "stdout",
     "output_type": "stream",
     "text": [
      "shahriyar, hussain and zain can also join\n"
     ]
    }
   ],
   "source": [
    "print(\"shahriyar, hussain and zain can also join\")"
   ]
  },
  {
   "cell_type": "code",
   "execution_count": 111,
   "id": "b3b3e0b9-0560-4655-9ffe-83ac667b2d5e",
   "metadata": {},
   "outputs": [],
   "source": [
    "guest_list.insert(0,\"shahriyar\")"
   ]
  },
  {
   "cell_type": "code",
   "execution_count": 112,
   "id": "2624131b-fb71-47d9-8af2-e038e31d630b",
   "metadata": {},
   "outputs": [
    {
     "data": {
      "text/plain": [
       "['shahriyar', 'Ali', 'hassan', 'Huzaifa']"
      ]
     },
     "execution_count": 112,
     "metadata": {},
     "output_type": "execute_result"
    }
   ],
   "source": [
    "guest_list"
   ]
  },
  {
   "cell_type": "code",
   "execution_count": 113,
   "id": "3a8844e2-65ea-477a-b2ee-202a3cc055c0",
   "metadata": {},
   "outputs": [
    {
     "data": {
      "text/plain": [
       "['shahriyar', 'Ali', 'hussain', 'hassan', 'Huzaifa', 'zain']"
      ]
     },
     "execution_count": 113,
     "metadata": {},
     "output_type": "execute_result"
    }
   ],
   "source": [
    "guest_list.insert(2,\"hussain\")\n",
    "guest_list.append(\"zain\")\n",
    "guest_list"
   ]
  },
  {
   "cell_type": "code",
   "execution_count": 114,
   "id": "98c37dc7-4ade-48e0-a966-0ba1ca78bdd1",
   "metadata": {},
   "outputs": [
    {
     "name": "stdout",
     "output_type": "stream",
     "text": [
      "shahriyar you are invited for dinner on 14 August\n",
      "Ali you are invited for dinner on 14 August\n",
      "hussain you are invited for dinner on 14 August\n",
      "hassan you are invited for dinner on 14 August\n",
      "Huzaifa you are invited for dinner on 14 August\n"
     ]
    }
   ],
   "source": [
    "print(guest_list[0], \"you are invited for dinner on 14 August\")\n",
    "print(guest_list[1], \"you are invited for dinner on 14 August\")\n",
    "print(guest_list[2], \"you are invited for dinner on 14 August\")\n",
    "print(guest_list[3], \"you are invited for dinner on 14 August\")\n",
    "print(guest_list[4], \"you are invited for dinner on 14 August\")"
   ]
  },
  {
   "cell_type": "code",
   "execution_count": 115,
   "id": "9cee7b7f-9d9b-4ea2-a450-6b9582c0dd03",
   "metadata": {},
   "outputs": [
    {
     "name": "stdout",
     "output_type": "stream",
     "text": [
      "I'm sorry zain I can't invite you\n"
     ]
    }
   ],
   "source": [
    "poped = guest_list.pop()\n",
    "print(\"I'm sorry\",poped,\"I can't invite you\")"
   ]
  },
  {
   "cell_type": "code",
   "execution_count": 116,
   "id": "5a81474a-2f30-466a-967e-e91630760317",
   "metadata": {},
   "outputs": [
    {
     "name": "stdout",
     "output_type": "stream",
     "text": [
      "I'm sorry Huzaifa I can't invite you\n"
     ]
    }
   ],
   "source": [
    "poped = guest_list.pop()\n",
    "print(\"I'm sorry\",poped,\"I can't invite you\")"
   ]
  },
  {
   "cell_type": "code",
   "execution_count": 117,
   "id": "db77ca18-131f-4b8f-a0fc-29dbdd4794e9",
   "metadata": {},
   "outputs": [
    {
     "name": "stdout",
     "output_type": "stream",
     "text": [
      "I'm sorry hassan I can't invite you\n"
     ]
    }
   ],
   "source": [
    "poped = guest_list.pop()\n",
    "print(\"I'm sorry\",poped,\"I can't invite you\")"
   ]
  },
  {
   "cell_type": "code",
   "execution_count": 118,
   "id": "6437d713-b54b-4b48-a4db-31605b13d7e2",
   "metadata": {},
   "outputs": [
    {
     "name": "stdout",
     "output_type": "stream",
     "text": [
      "I'm sorry hussain I can't invite you\n"
     ]
    }
   ],
   "source": [
    "poped = guest_list.pop()\n",
    "print(\"I'm sorry\",poped,\"I can't invite you\")"
   ]
  },
  {
   "cell_type": "code",
   "execution_count": 119,
   "id": "1686c736-fc17-40bd-802c-ed37aba16cab",
   "metadata": {},
   "outputs": [
    {
     "data": {
      "text/plain": [
       "['shahriyar', 'Ali']"
      ]
     },
     "execution_count": 119,
     "metadata": {},
     "output_type": "execute_result"
    }
   ],
   "source": [
    "guest_list"
   ]
  },
  {
   "cell_type": "code",
   "execution_count": 120,
   "id": "cb65d647-8f74-47c1-92d2-cb8cc20228ce",
   "metadata": {},
   "outputs": [
    {
     "name": "stdout",
     "output_type": "stream",
     "text": [
      "shahriyar you are still invited\n",
      "Ali you are still invited\n"
     ]
    }
   ],
   "source": [
    "print(guest_list[0], \"you are still invited\")\n",
    "print(guest_list[1], \"you are still invited\")"
   ]
  },
  {
   "cell_type": "code",
   "execution_count": 121,
   "id": "f44aa90a-7e0d-47a4-9dbd-4184a4ce1259",
   "metadata": {},
   "outputs": [
    {
     "data": {
      "text/plain": [
       "[]"
      ]
     },
     "execution_count": 121,
     "metadata": {},
     "output_type": "execute_result"
    }
   ],
   "source": [
    "del guest_list[0:2]\n",
    "guest_list"
   ]
  },
  {
   "cell_type": "code",
   "execution_count": 144,
   "id": "7705f16b-1221-40d6-9084-f1ab8c006bf4",
   "metadata": {},
   "outputs": [
    {
     "data": {
      "text/plain": [
       "[3, 2]"
      ]
     },
     "execution_count": 144,
     "metadata": {},
     "output_type": "execute_result"
    }
   ],
   "source": [
    "my_list = [3,2,7,99,5,6,7,8,9]\n",
    "new = my_list[:2]\n",
    "new"
   ]
  },
  {
   "cell_type": "code",
   "execution_count": 145,
   "id": "5de30808-8f77-48f2-a1d7-d834fa40e909",
   "metadata": {},
   "outputs": [
    {
     "data": {
      "text/plain": [
       "[3, 2, 7, 99, 5, 6, 7, 8, 9]"
      ]
     },
     "execution_count": 145,
     "metadata": {},
     "output_type": "execute_result"
    }
   ],
   "source": [
    "my_list"
   ]
  },
  {
   "cell_type": "code",
   "execution_count": 146,
   "id": "011a69bc-d10b-4240-9e53-cb0f284ec355",
   "metadata": {},
   "outputs": [],
   "source": [
    "step = my_list[::2]"
   ]
  },
  {
   "cell_type": "code",
   "execution_count": 147,
   "id": "c88aabcb-4b19-4cab-93ff-e925d44017bf",
   "metadata": {},
   "outputs": [
    {
     "data": {
      "text/plain": [
       "[3, 7, 5, 7, 9]"
      ]
     },
     "execution_count": 147,
     "metadata": {},
     "output_type": "execute_result"
    }
   ],
   "source": [
    "step"
   ]
  },
  {
   "cell_type": "code",
   "execution_count": 148,
   "id": "d5f6578b-1fa3-431e-8ae8-2712a14e5948",
   "metadata": {},
   "outputs": [],
   "source": [
    "rever = my_list[::-1]"
   ]
  },
  {
   "cell_type": "code",
   "execution_count": 149,
   "id": "299e8a72-15ba-40d7-b208-13a684e2a4cc",
   "metadata": {},
   "outputs": [
    {
     "data": {
      "text/plain": [
       "[9, 8, 7, 6, 5, 99, 7, 2, 3]"
      ]
     },
     "execution_count": 149,
     "metadata": {},
     "output_type": "execute_result"
    }
   ],
   "source": [
    "rever"
   ]
  },
  {
   "cell_type": "code",
   "execution_count": 150,
   "id": "f0a85f9f-f1ca-4fb5-937d-2e18a889e1f4",
   "metadata": {},
   "outputs": [],
   "source": [
    "my_list.extend([3,4,2,1])"
   ]
  },
  {
   "cell_type": "code",
   "execution_count": 151,
   "id": "bc79c2d1-04aa-4681-85d5-33dc348367ec",
   "metadata": {},
   "outputs": [
    {
     "data": {
      "text/plain": [
       "[3, 2, 7, 99, 5, 6, 7, 8, 9, 3, 4, 2, 1]"
      ]
     },
     "execution_count": 151,
     "metadata": {},
     "output_type": "execute_result"
    }
   ],
   "source": [
    "my_list"
   ]
  },
  {
   "cell_type": "code",
   "execution_count": 152,
   "id": "80c769a4-0883-45e4-b76f-6fca7b5770fe",
   "metadata": {},
   "outputs": [
    {
     "data": {
      "text/plain": [
       "[3, 2, 7, 99, 5, 6, 7, 8, 9, 3, 4, 2, 1, [11, 22, 33, 44, 55]]"
      ]
     },
     "execution_count": 152,
     "metadata": {},
     "output_type": "execute_result"
    }
   ],
   "source": [
    "my_list.append([11,22,33,44,55])\n",
    "my_list"
   ]
  },
  {
   "cell_type": "code",
   "execution_count": 155,
   "id": "fd9f9ccc-cba5-49ef-98b9-af4a68806776",
   "metadata": {},
   "outputs": [
    {
     "data": {
      "text/plain": [
       "[55, 44, 33, 22, 11]"
      ]
     },
     "execution_count": 155,
     "metadata": {},
     "output_type": "execute_result"
    }
   ],
   "source": [
    "my_list[-1][::-1]"
   ]
  },
  {
   "cell_type": "code",
   "execution_count": 157,
   "id": "1f884ff1-27b8-4fe1-9edd-e2d0c2d5460f",
   "metadata": {},
   "outputs": [
    {
     "data": {
      "text/plain": [
       "[1, 2, 2, 3, 3, 4, 5, 6, 7, 7, 8, 9, 99]"
      ]
     },
     "execution_count": 157,
     "metadata": {},
     "output_type": "execute_result"
    }
   ],
   "source": [
    "my_list.pop()\n",
    "my_list.sort()\n",
    "my_list"
   ]
  },
  {
   "cell_type": "code",
   "execution_count": null,
   "id": "39658887-0c1b-4797-a347-f40c8fd10899",
   "metadata": {},
   "outputs": [],
   "source": []
  },
  {
   "cell_type": "code",
   "execution_count": null,
   "id": "9d56379c-545a-41b1-b7db-8c8a33336476",
   "metadata": {},
   "outputs": [],
   "source": []
  }
 ],
 "metadata": {
  "kernelspec": {
   "display_name": "Python 3 (ipykernel)",
   "language": "python",
   "name": "python3"
  },
  "language_info": {
   "codemirror_mode": {
    "name": "ipython",
    "version": 3
   },
   "file_extension": ".py",
   "mimetype": "text/x-python",
   "name": "python",
   "nbconvert_exporter": "python",
   "pygments_lexer": "ipython3",
   "version": "3.12.4"
  }
 },
 "nbformat": 4,
 "nbformat_minor": 5
}
