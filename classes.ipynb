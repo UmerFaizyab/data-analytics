{
 "cells": [
  {
   "cell_type": "markdown",
   "metadata": {},
   "source": [
    "## With OPP"
   ]
  },
  {
   "cell_type": "code",
   "execution_count": 1,
   "metadata": {},
   "outputs": [],
   "source": [
    "class Employee:\n",
    "    def __init__(self, employee_name, number, address, salary, post, year_of_joining, education, experience):\n",
    "        self.employee_name = employee_name\n",
    "        self.number = number\n",
    "        self.address = address\n",
    "        self.salary = salary\n",
    "        self.post = post\n",
    "        self.year_of_joining = year_of_joining\n",
    "        self.education = education\n",
    "        self.experience = experience\n",
    "\n",
    "    def describe_employee(self):\n",
    "        print(\"-----------------------------------------\")\n",
    "        print(f\"Employee        : {self.employee_name}\")\n",
    "        print(f\"Number          : {self.number}\")\n",
    "        print(f\"Address         : {self.address}\")\n",
    "        print(f\"Salary          : {self.salary}\")\n",
    "        print(f\"Post            : {self.post}\")\n",
    "        print(f\"Joining         : {self.year_of_joining}\")\n",
    "        print(f\"education       : {self.education}\")\n",
    "        print(f\"experience      : {self.experience}\")\n",
    "        print(\"-----------------------------------------\")\n",
    "\n",
    "\n",
    "    def update_year_of_experience(self):\n",
    "        print(f\"Current Experience : {self.experience}\")\n",
    "        new_experience = None\n",
    "        while new_experience == None or new_experience <= 0:\n",
    "            try:\n",
    "                new_experience = int(input(\"Enter how much experience you want to increase :\"))\n",
    "                if new_experience <= 0:\n",
    "                    print(\"Enter greater value\")\n",
    "                else:\n",
    "                    self.experience += new_experience\n",
    "                    print(f\"Experience increased: new salary {self.experience}\")\n",
    "            except:\n",
    "                print(\"Enter a valid value\")\n",
    "  \n",
    "    def increase_salary(self):\n",
    "        print(f\"Current Salary : {self.salary}\")\n",
    "        new_salary = None\n",
    "        while new_salary == None or new_salary <= 0:\n",
    "            try:\n",
    "                new_salary = int(input(\"Enter how much salary you want to increase :\"))\n",
    "                if new_salary <= 0:\n",
    "                    print(\"Enter greater value\")\n",
    "                else:\n",
    "                    self.salary += new_salary\n",
    "                    print(f\"Salary Increased: new salary {self.salary}\")\n",
    "            except:\n",
    "                print(\"Enter a valid value\")\n"
   ]
  },
  {
   "cell_type": "code",
   "execution_count": 2,
   "metadata": {},
   "outputs": [],
   "source": [
    "employee1 = Employee(\"Umer Faizyab\", \"412432156\", \"123 house karachi\", 300000, \"data analyst\", 2020, \"intermediate\", 4)\n",
    "employee2 = Employee(\"Ayesha Ali\", \"412432157\", \"456 street karachi\", 150000, \"software developer\", 2021, \"bachelor's\", 3)\n",
    "employee3 = Employee(\"Ahmed Khan\", \"412432158\", \"789 avenue lahore\", 300000, \"network engineer\", 2019, \"bachelor's\", 5)\n",
    "employee4 = Employee(\"Sara Malik\", \"412432159\", \"321 boulevard islamabad\", 250000, \"project manager\", 2018, \"master's\", 6)\n",
    "employee5 = Employee(\"Ali Raza\", \"412432160\", \"654 street peshawar\", 280000, \"web developer\", 2022, \"diploma\", 1)\n",
    "employee6 = Employee(\"Fatima Shaikh\", \"412432161\", \"987 colony karachi\", 220000, \"graphic designer\", 2021, \"intermediate\", 2)\n",
    "employee7 = Employee(\"Bilal Ahmed\", \"412432162\", \"159 block multan\", 300000, \"system administrator\", 2017, \"master's\", 7)\n",
    "employee8 = Employee(\"Zara Hassan\", \"412432163\", \"753 sector lahore\", 270000, \"business analyst\", 2020, \"bachelor's\", 3)\n",
    "employee9 = Employee(\"Omar Siddiqui\", \"412432164\", \"852 road islamabad\", 120000, \"QA engineer\", 2019, \"bachelor's\", 4)\n",
    "employee10 = Employee(\"Maha Javed\", \"412432165\", \"147 society karachi\", 280000, \"UI/UX designer\", 2020, \"bachelor's\", 3)"
   ]
  },
  {
   "cell_type": "code",
   "execution_count": 3,
   "metadata": {},
   "outputs": [
    {
     "name": "stdout",
     "output_type": "stream",
     "text": [
      "-----------------------------------------\n",
      "Employee        : Umer Faizyab\n",
      "Number          : 412432156\n",
      "Address         : 123 house karachi\n",
      "Salary          : 300000\n",
      "Post            : data analyst\n",
      "Joining         : 2020\n",
      "education       : intermediate\n",
      "experience      : 4\n",
      "-----------------------------------------\n",
      "-----------------------------------------\n",
      "Employee        : Ayesha Ali\n",
      "Number          : 412432157\n",
      "Address         : 456 street karachi\n",
      "Salary          : 150000\n",
      "Post            : software developer\n",
      "Joining         : 2021\n",
      "education       : bachelor's\n",
      "experience      : 3\n",
      "-----------------------------------------\n",
      "-----------------------------------------\n",
      "Employee        : Ahmed Khan\n",
      "Number          : 412432158\n",
      "Address         : 789 avenue lahore\n",
      "Salary          : 300000\n",
      "Post            : network engineer\n",
      "Joining         : 2019\n",
      "education       : bachelor's\n",
      "experience      : 5\n",
      "-----------------------------------------\n",
      "-----------------------------------------\n",
      "Employee        : Sara Malik\n",
      "Number          : 412432159\n",
      "Address         : 321 boulevard islamabad\n",
      "Salary          : 250000\n",
      "Post            : project manager\n",
      "Joining         : 2018\n",
      "education       : master's\n",
      "experience      : 6\n",
      "-----------------------------------------\n",
      "-----------------------------------------\n",
      "Employee        : Ali Raza\n",
      "Number          : 412432160\n",
      "Address         : 654 street peshawar\n",
      "Salary          : 280000\n",
      "Post            : web developer\n",
      "Joining         : 2022\n",
      "education       : diploma\n",
      "experience      : 1\n",
      "-----------------------------------------\n",
      "-----------------------------------------\n",
      "Employee        : Fatima Shaikh\n",
      "Number          : 412432161\n",
      "Address         : 987 colony karachi\n",
      "Salary          : 220000\n",
      "Post            : graphic designer\n",
      "Joining         : 2021\n",
      "education       : intermediate\n",
      "experience      : 2\n",
      "-----------------------------------------\n",
      "-----------------------------------------\n",
      "Employee        : Bilal Ahmed\n",
      "Number          : 412432162\n",
      "Address         : 159 block multan\n",
      "Salary          : 300000\n",
      "Post            : system administrator\n",
      "Joining         : 2017\n",
      "education       : master's\n",
      "experience      : 7\n",
      "-----------------------------------------\n",
      "-----------------------------------------\n",
      "Employee        : Zara Hassan\n",
      "Number          : 412432163\n",
      "Address         : 753 sector lahore\n",
      "Salary          : 270000\n",
      "Post            : business analyst\n",
      "Joining         : 2020\n",
      "education       : bachelor's\n",
      "experience      : 3\n",
      "-----------------------------------------\n",
      "-----------------------------------------\n",
      "Employee        : Omar Siddiqui\n",
      "Number          : 412432164\n",
      "Address         : 852 road islamabad\n",
      "Salary          : 120000\n",
      "Post            : QA engineer\n",
      "Joining         : 2019\n",
      "education       : bachelor's\n",
      "experience      : 4\n",
      "-----------------------------------------\n",
      "-----------------------------------------\n",
      "Employee        : Maha Javed\n",
      "Number          : 412432165\n",
      "Address         : 147 society karachi\n",
      "Salary          : 280000\n",
      "Post            : UI/UX designer\n",
      "Joining         : 2020\n",
      "education       : bachelor's\n",
      "experience      : 3\n",
      "-----------------------------------------\n"
     ]
    }
   ],
   "source": [
    "employee1.describe_employee()\n",
    "employee2.describe_employee()\n",
    "employee3.describe_employee()\n",
    "employee4.describe_employee()\n",
    "employee5.describe_employee()\n",
    "employee6.describe_employee()\n",
    "employee7.describe_employee()\n",
    "employee8.describe_employee()\n",
    "employee9.describe_employee()\n",
    "employee10.describe_employee()"
   ]
  },
  {
   "cell_type": "code",
   "execution_count": 4,
   "metadata": {},
   "outputs": [
    {
     "data": {
      "text/plain": [
       "150000"
      ]
     },
     "execution_count": 4,
     "metadata": {},
     "output_type": "execute_result"
    }
   ],
   "source": [
    "employee2.salary"
   ]
  },
  {
   "cell_type": "code",
   "execution_count": 5,
   "metadata": {},
   "outputs": [
    {
     "name": "stdout",
     "output_type": "stream",
     "text": [
      "Current Salary : 150000\n"
     ]
    },
    {
     "name": "stdin",
     "output_type": "stream",
     "text": [
      "Enter how much salary you want to increase : 20000\n"
     ]
    },
    {
     "name": "stdout",
     "output_type": "stream",
     "text": [
      "Salary Increased: new salary 170000\n"
     ]
    }
   ],
   "source": [
    "employee2.increase_salary()"
   ]
  },
  {
   "cell_type": "code",
   "execution_count": 6,
   "metadata": {},
   "outputs": [
    {
     "name": "stdout",
     "output_type": "stream",
     "text": [
      "-----------------------------------------\n",
      "Employee        : Ayesha Ali\n",
      "Number          : 412432157\n",
      "Address         : 456 street karachi\n",
      "Salary          : 170000\n",
      "Post            : software developer\n",
      "Joining         : 2021\n",
      "education       : bachelor's\n",
      "experience      : 3\n",
      "-----------------------------------------\n"
     ]
    }
   ],
   "source": [
    "employee2.describe_employee()"
   ]
  },
  {
   "cell_type": "code",
   "execution_count": 7,
   "metadata": {},
   "outputs": [
    {
     "name": "stdout",
     "output_type": "stream",
     "text": [
      "Current Experience : 3\n"
     ]
    },
    {
     "name": "stdin",
     "output_type": "stream",
     "text": [
      "Enter how much experience you want to increase : 1\n"
     ]
    },
    {
     "name": "stdout",
     "output_type": "stream",
     "text": [
      "Experience increased: new salary 4\n"
     ]
    }
   ],
   "source": [
    "employee2.update_year_of_experience()"
   ]
  },
  {
   "cell_type": "code",
   "execution_count": 8,
   "metadata": {},
   "outputs": [
    {
     "name": "stdout",
     "output_type": "stream",
     "text": [
      "Current Experience : 6\n"
     ]
    },
    {
     "name": "stdin",
     "output_type": "stream",
     "text": [
      "Enter how much experience you want to increase : 1\n"
     ]
    },
    {
     "name": "stdout",
     "output_type": "stream",
     "text": [
      "Experience increased: new salary 7\n"
     ]
    }
   ],
   "source": [
    "employee4.update_year_of_experience()"
   ]
  },
  {
   "cell_type": "code",
   "execution_count": 9,
   "metadata": {},
   "outputs": [
    {
     "name": "stdout",
     "output_type": "stream",
     "text": [
      "-----------------------------------------\n",
      "Employee        : Sara Malik\n",
      "Number          : 412432159\n",
      "Address         : 321 boulevard islamabad\n",
      "Salary          : 250000\n",
      "Post            : project manager\n",
      "Joining         : 2018\n",
      "education       : master's\n",
      "experience      : 7\n",
      "-----------------------------------------\n"
     ]
    }
   ],
   "source": [
    "employee4.describe_employee()"
   ]
  },
  {
   "cell_type": "markdown",
   "metadata": {},
   "source": [
    "## Without OOP"
   ]
  },
  {
   "cell_type": "code",
   "execution_count": 11,
   "metadata": {},
   "outputs": [],
   "source": [
    "employees_data = {\n",
    "    \"employee1\": {\n",
    "        \"name\": \"Umer Faizyab\",\n",
    "        \"phone\": \"412432156\",\n",
    "        \"address\": \"123 house karachi\",\n",
    "        \"salary\": 300000,\n",
    "        \"position\": \"data analyst\",\n",
    "        \"year_joined\": 2020,\n",
    "        \"education\": \"intermediate\",\n",
    "        \"experience\": 4\n",
    "    },\n",
    "    \"employee2\": {\n",
    "        \"name\": \"Ayesha Ali\",\n",
    "        \"phone\": \"412432157\",\n",
    "        \"address\": \"456 street karachi\",\n",
    "        \"salary\": 150000,\n",
    "        \"position\": \"software developer\",\n",
    "        \"year_joined\": 2021,\n",
    "        \"education\": \"bachelor's\",\n",
    "        \"experience\": 3\n",
    "    },\n",
    "    \"employee3\": {\n",
    "        \"name\": \"Ahmed Khan\",\n",
    "        \"phone\": \"412432158\",\n",
    "        \"address\": \"789 avenue lahore\",\n",
    "        \"salary\": 300000,\n",
    "        \"position\": \"network engineer\",\n",
    "        \"year_joined\": 2019,\n",
    "        \"education\": \"bachelor's\",\n",
    "        \"experience\": 5\n",
    "    },\n",
    "    \"employee4\": {\n",
    "        \"name\": \"Sara Malik\",\n",
    "        \"phone\": \"412432159\",\n",
    "        \"address\": \"321 boulevard islamabad\",\n",
    "        \"salary\": 250000,\n",
    "        \"position\": \"project manager\",\n",
    "        \"year_joined\": 2018,\n",
    "        \"education\": \"master's\",\n",
    "        \"experience\": 6\n",
    "    },\n",
    "    \"employee5\": {\n",
    "        \"name\": \"Ali Raza\",\n",
    "        \"phone\": \"412432160\",\n",
    "        \"address\": \"654 street peshawar\",\n",
    "        \"salary\": 280000,\n",
    "        \"position\": \"web developer\",\n",
    "        \"year_joined\": 2022,\n",
    "        \"education\": \"diploma\",\n",
    "        \"experience\": 1\n",
    "    },\n",
    "    \"employee6\": {\n",
    "        \"name\": \"Fatima Shaikh\",\n",
    "        \"phone\": \"412432161\",\n",
    "        \"address\": \"987 colony karachi\",\n",
    "        \"salary\": 220000,\n",
    "        \"position\": \"graphic designer\",\n",
    "        \"year_joined\": 2021,\n",
    "        \"education\": \"intermediate\",\n",
    "        \"experience\": 2\n",
    "    },\n",
    "    \"employee7\": {\n",
    "        \"name\": \"Bilal Ahmed\",\n",
    "        \"phone\": \"412432162\",\n",
    "        \"address\": \"159 block multan\",\n",
    "        \"salary\": 300000,\n",
    "        \"position\": \"system administrator\",\n",
    "        \"year_joined\": 2017,\n",
    "        \"education\": \"master's\",\n",
    "        \"experience\": 7\n",
    "    },\n",
    "    \"employee8\": {\n",
    "        \"name\": \"Zara Hassan\",\n",
    "        \"phone\": \"412432163\",\n",
    "        \"address\": \"753 sector lahore\",\n",
    "        \"salary\": 270000,\n",
    "        \"position\": \"business analyst\",\n",
    "        \"year_joined\": 2020,\n",
    "        \"education\": \"bachelor's\",\n",
    "        \"experience\": 3\n",
    "    },\n",
    "    \"employee9\": {\n",
    "        \"name\": \"Omar Siddiqui\",\n",
    "        \"phone\": \"412432164\",\n",
    "        \"address\": \"852 road islamabad\",\n",
    "        \"salary\": 120000,\n",
    "        \"position\": \"QA engineer\",\n",
    "        \"year_joined\": 2019,\n",
    "        \"education\": \"bachelor's\",\n",
    "        \"experience\": 4\n",
    "    },\n",
    "    \"employee10\": {\n",
    "        \"name\": \"Maha Javed\",\n",
    "        \"phone\": \"412432165\",\n",
    "        \"address\": \"147 society karachi\",\n",
    "        \"salary\": 280000,\n",
    "        \"position\": \"UI/UX designer\",\n",
    "        \"year_joined\": 2020,\n",
    "        \"education\": \"bachelor's\",\n",
    "        \"experience\": 3\n",
    "    }\n",
    "}\n"
   ]
  },
  {
   "cell_type": "code",
   "execution_count": 13,
   "metadata": {},
   "outputs": [
    {
     "name": "stdout",
     "output_type": "stream",
     "text": [
      "{'name': 'Umer Faizyab', 'phone': '412432156', 'address': '123 house karachi', 'salary': 300000, 'position': 'data analyst', 'year_joined': 2020, 'education': 'intermediate', 'experience': 4}\n"
     ]
    }
   ],
   "source": [
    "print(employees_data['employee1'])"
   ]
  },
  {
   "cell_type": "code",
   "execution_count": 14,
   "metadata": {},
   "outputs": [
    {
     "name": "stdout",
     "output_type": "stream",
     "text": [
      "{'name': 'Ahmed Khan', 'phone': '412432158', 'address': '789 avenue lahore', 'salary': 300000, 'position': 'network engineer', 'year_joined': 2019, 'education': \"bachelor's\", 'experience': 5}\n"
     ]
    }
   ],
   "source": [
    "print(employees_data['employee3'])"
   ]
  },
  {
   "cell_type": "code",
   "execution_count": 15,
   "metadata": {},
   "outputs": [
    {
     "name": "stdout",
     "output_type": "stream",
     "text": [
      "300000\n"
     ]
    }
   ],
   "source": [
    "print(employees_data['employee1']['salary'])"
   ]
  },
  {
   "cell_type": "code",
   "execution_count": 16,
   "metadata": {},
   "outputs": [],
   "source": [
    "employees_data['employee1']['salary'] = 315000"
   ]
  },
  {
   "cell_type": "code",
   "execution_count": 17,
   "metadata": {},
   "outputs": [
    {
     "name": "stdout",
     "output_type": "stream",
     "text": [
      "315000\n"
     ]
    }
   ],
   "source": [
    "print(employees_data['employee1']['salary'])"
   ]
  },
  {
   "cell_type": "code",
   "execution_count": null,
   "metadata": {},
   "outputs": [],
   "source": []
  }
 ],
 "metadata": {
  "kernelspec": {
   "display_name": "Python 3 (ipykernel)",
   "language": "python",
   "name": "python3"
  },
  "language_info": {
   "codemirror_mode": {
    "name": "ipython",
    "version": 3
   },
   "file_extension": ".py",
   "mimetype": "text/x-python",
   "name": "python",
   "nbconvert_exporter": "python",
   "pygments_lexer": "ipython3",
   "version": "3.12.4"
  }
 },
 "nbformat": 4,
 "nbformat_minor": 4
}
