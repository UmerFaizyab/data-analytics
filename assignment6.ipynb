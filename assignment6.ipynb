{
 "cells": [
  {
   "cell_type": "code",
   "execution_count": 6,
   "id": "8f56b33f-1612-4b03-842c-4ee9f897eca9",
   "metadata": {},
   "outputs": [
    {
     "name": "stdout",
     "output_type": "stream",
     "text": [
      "\n",
      "*\n",
      "**\n",
      "***\n",
      "****\n",
      "*****\n",
      "****\n",
      "***\n",
      "**\n",
      "*\n"
     ]
    }
   ],
   "source": [
    "count = 0\n",
    "for i in range(10):\n",
    "    if(i >= 5):\n",
    "        print(\"*\" * count)\n",
    "        count -= 1\n",
    "    else:\n",
    "        print(\"*\" * i)\n",
    "        count += 1\n",
    "        "
   ]
  },
  {
   "cell_type": "code",
   "execution_count": 8,
   "id": "7a420bf4-d038-4d01-a3e2-0bb690a7acb1",
   "metadata": {},
   "outputs": [
    {
     "name": "stdin",
     "output_type": "stream",
     "text": [
      "write an alphabet a\n"
     ]
    },
    {
     "name": "stdout",
     "output_type": "stream",
     "text": [
      "Given alphabet is vowel\n"
     ]
    }
   ],
   "source": [
    "userInput = input(\"write an alphabet\").lower()\n",
    "if userInput == \"a\" or userInput == \"e\" or userInput == \"i\" or userInput == \"o\" or userInput == \"u\":\n",
    "   print(\"Given alphabet is vowel\")\n",
    "else:\n",
    "   print(\"Given alphabet is not a vowel\")"
   ]
  },
  {
   "cell_type": "code",
   "execution_count": 14,
   "id": "eb8862aa-5013-4264-858a-840eb8a4ea36",
   "metadata": {},
   "outputs": [
    {
     "name": "stdin",
     "output_type": "stream",
     "text": [
      "write number of which you want table to be printed 6\n"
     ]
    },
    {
     "name": "stdout",
     "output_type": "stream",
     "text": [
      "6  X  1  =  6\n",
      "6  X  2  =  12\n",
      "6  X  3  =  18\n",
      "6  X  4  =  24\n",
      "6  X  5  =  30\n",
      "6  X  6  =  36\n",
      "6  X  7  =  42\n",
      "6  X  8  =  48\n",
      "6  X  9  =  54\n",
      "6  X  10  =  60\n"
     ]
    }
   ],
   "source": [
    "inputNumber = int(input(\"write number of which you want table to be printed\"))\n",
    "for i in range(1,11):\n",
    "    print(inputNumber, \" X \", i ,\" = \", inputNumber*i)"
   ]
  },
  {
   "cell_type": "markdown",
   "id": "621970de-1d60-4122-af04-17ddf4ebdbc9",
   "metadata": {},
   "source": [
    "Write a Python program to guess a number between 1 and 9.\n",
    "Note : User is prompted to enter a guess. If the user guesses wrong then\n",
    "the prompt appears again until the guess is correct, on successful guess,\n",
    "user will get a \"Well guessed!\" message, and the program will exit."
   ]
  },
  {
   "cell_type": "code",
   "execution_count": 26,
   "id": "ed466ee7-dc21-444e-bfa0-df79cb04a303",
   "metadata": {},
   "outputs": [
    {
     "name": "stdin",
     "output_type": "stream",
     "text": [
      "guess number from 1 to 9 : 1\n",
      "Try Again : 2\n",
      "Try Again : 3\n",
      "Try Again : 4\n"
     ]
    },
    {
     "name": "stdout",
     "output_type": "stream",
     "text": [
      "Well Guessed\n"
     ]
    }
   ],
   "source": [
    "import random\n",
    "userGuess = int(input(\"guess number from 1 to 9 :\"))\n",
    "computerChoice = random.randint(1, 9)\n",
    "\n",
    "while userGuess != computerChoice:\n",
    "    userGuess = int(input(\"Try Again :\"))\n",
    "\n",
    "print(\"Well Guessed\")\n",
    "    "
   ]
  },
  {
   "cell_type": "markdown",
   "id": "b7df00e3-b289-4517-8929-4349326c938b",
   "metadata": {},
   "source": [
    "Write a  Python program to filter the height and width of students, which are stored in a dictionary.\r\n",
    "Original Dictionary:\r\n",
    "{'Cierra Vega': (6.2, 70), 'Alden Cantrell': (5.9, 65), 'Kierra Gentry': (6.0, 68), 'Pierre Cox': (5.8, 66)}\r\n",
    "Height > 6ft and Weight> 70kg:\r\n",
    "{'Cierra Vega': (6.2, 70)}"
   ]
  },
  {
   "cell_type": "code",
   "execution_count": 44,
   "id": "4e2d9d8e-4534-475b-9787-aa3282c86985",
   "metadata": {},
   "outputs": [
    {
     "name": "stdout",
     "output_type": "stream",
     "text": [
      "Cierra Vega  :  (6.2, 70)\n",
      "Kierra Gentry  :  (6.0, 80)\n"
     ]
    }
   ],
   "source": [
    "students = {\n",
    "    'Cierra Vega': (6.2, 70),\n",
    "    'Alden Cantrell': (5.9, 65),\n",
    "    'Kierra Gentry': (6.0, 80),\n",
    "    'Pierre Cox': (5.8, 66),\n",
    "}\n",
    "# Height > 6ft and Weight> 70kg\n",
    "for studenName in students.keys():\n",
    "    if students[studenName][0] >= 6 and students[studenName][1] >= 70:\n",
    "        print(studenName, \" : \" ,students[studenName])\n",
    "          "
   ]
  },
  {
   "cell_type": "markdown",
   "id": "9a429a41-a5ab-4f25-a3b3-1886e5524d40",
   "metadata": {},
   "source": [
    ". A  Python dictionary contains List as a value. Write a Python program to clear the list values in the said dictionary.\r\n",
    "Original Dictionary:\r\n",
    "{'C1': [10, 20, 30], 'C2': [20, 30, 40], 'C3': [12, 34]}\r\n",
    "Clear the list values in the said dictionary:\r\n",
    "{'C1': [], 'C2': [], 'C3': []}"
   ]
  },
  {
   "cell_type": "code",
   "execution_count": 47,
   "id": "39d3c3b1-c6d9-4bcf-beab-24b8dc9791bd",
   "metadata": {},
   "outputs": [
    {
     "data": {
      "text/plain": [
       "{'C1': [], 'C2': [], 'C3': []}"
      ]
     },
     "execution_count": 47,
     "metadata": {},
     "output_type": "execute_result"
    }
   ],
   "source": [
    "myDict = {\n",
    "    'C1': [10, 20, 30],\n",
    "    'C2': [20, 30, 40],\n",
    "    'C3': [12, 34]\n",
    "}\n",
    "\n",
    "for i in myDict.keys():\n",
    "    myDict[i] = []\n",
    "\n",
    "myDict"
   ]
  },
  {
   "cell_type": "markdown",
   "id": "04f9a161-8ed1-4cb4-a51f-b62abcb98fc1",
   "metadata": {},
   "source": [
    "Rivers: Make a dictionary containing three major rivers and the country\r\n",
    "each river runs through. One key-value pair might be 'nile': 'egypt'.\r\n",
    "• Use a loop to print a sentence about each river, such as The Nile runs\r\n",
    "through Egypt.\r\n",
    "• Use a loop to print the name of each river included in the dictionary.\r\n",
    "• Use a loop to print the name of each country included in the dictionary."
   ]
  },
  {
   "cell_type": "code",
   "execution_count": 53,
   "id": "a92a4f59-1dae-4d2a-b184-af7d69f2f515",
   "metadata": {},
   "outputs": [
    {
     "name": "stdout",
     "output_type": "stream",
     "text": [
      "nile\n",
      "egypt\n",
      "The nile runs through egypt.\n",
      "\n",
      "indus\n",
      "pakistan\n",
      "The indus runs through pakistan.\n",
      "\n",
      "ganges\n",
      "india\n",
      "The ganges runs through india.\n",
      "\n"
     ]
    }
   ],
   "source": [
    "rivers = {\n",
    "    'nile':'egypt',\n",
    "    'indus':'pakistan',\n",
    "    'ganges':'india',\n",
    "}\n",
    "\n",
    "for i in rivers.keys():\n",
    "    print(i)\n",
    "    print(rivers[i])\n",
    "    print(f\"The {i} runs through {rivers[i]}.\\n\")\n"
   ]
  },
  {
   "cell_type": "markdown",
   "id": "60f8b825-9951-4fee-8a3f-a26ae685dd40",
   "metadata": {},
   "source": [
    "Movie Tickets: A movie theater charges different ticket prices depending on\r\n",
    "a person’s age. If a person is under the age of 3, the ticket is free; if they are\r\n",
    "between 3 and 12, the ticket is $10; and if they are over age 12, the ticket is\r\n",
    "$15. Write a loop in which you ask users their age, and then tell them the cost\r\n",
    "of their movie ticket."
   ]
  },
  {
   "cell_type": "code",
   "execution_count": 7,
   "id": "d8f34029-fabe-4958-a396-f3810c338471",
   "metadata": {},
   "outputs": [
    {
     "name": "stdin",
     "output_type": "stream",
     "text": [
      "Enter Your Age : 1\n"
     ]
    },
    {
     "name": "stdout",
     "output_type": "stream",
     "text": [
      "Ticket is free\n"
     ]
    },
    {
     "name": "stdin",
     "output_type": "stream",
     "text": [
      "Enter Your Age : 21\n"
     ]
    },
    {
     "name": "stdout",
     "output_type": "stream",
     "text": [
      "Ticket is 15$\n"
     ]
    },
    {
     "name": "stdin",
     "output_type": "stream",
     "text": [
      "Enter Your Age : 101\n"
     ]
    },
    {
     "name": "stdout",
     "output_type": "stream",
     "text": [
      "Ticket is 15$\n"
     ]
    }
   ],
   "source": [
    "age = 0\n",
    "while age != 101:\n",
    "    age = int(input(\"Enter Your Age :\"))\n",
    "    if age <= 3:\n",
    "        print(\"Ticket is free\")\n",
    "    elif age > 3 and age <= 12:\n",
    "        print(\"Ticket is 10$\")\n",
    "    elif age > 12:\n",
    "        print(\"Ticket is 15$\")\n",
    "        "
   ]
  },
  {
   "cell_type": "markdown",
   "id": "ca312fe3-1e92-457a-b048-aac980a6762c",
   "metadata": {},
   "source": []
  }
 ],
 "metadata": {
  "kernelspec": {
   "display_name": "Python 3 (ipykernel)",
   "language": "python",
   "name": "python3"
  },
  "language_info": {
   "codemirror_mode": {
    "name": "ipython",
    "version": 3
   },
   "file_extension": ".py",
   "mimetype": "text/x-python",
   "name": "python",
   "nbconvert_exporter": "python",
   "pygments_lexer": "ipython3",
   "version": "3.12.4"
  }
 },
 "nbformat": 4,
 "nbformat_minor": 5
}
